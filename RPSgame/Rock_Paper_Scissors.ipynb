{
  "nbformat": 4,
  "nbformat_minor": 0,
  "metadata": {
    "colab": {
      "provenance": []
    },
    "kernelspec": {
      "name": "python3",
      "display_name": "Python 3"
    },
    "language_info": {
      "name": "python"
    }
  },
  "cells": [
    {
      "cell_type": "markdown",
      "source": [
        "**Prepare a PvC game of ROCK-PAPER-SCISSORS that takes user's input,Geneterate random choice from computer and determines the victor**"
      ],
      "metadata": {
        "id": "hmMppVZ4RAtG"
      }
    },
    {
      "cell_type": "code",
      "source": [
        "# This is the command line based project for rock paper and scissors.\n",
        "# A separate project for this game will be made in VS code that will have some GUI involved.\n",
        "\n",
        "\n",
        "\n",
        "import random\n",
        "print(\" || === Welcome to ROCK , PAPER and SCISSORS === ||\")\n",
        "print(\"\\n Here you will go against Our champion: The COMPUTERRRRRRRR !!!! \")\n",
        "\n",
        "# Listing thr choices... List is much better then typing 1,2,3 and that would ruin the game so... list it is.\n",
        "choices = [\"rock\", \"paper\", \"scissors\"]\n",
        "\n",
        "\n",
        "# scores..\n",
        "user_score = 0\n",
        "computer_score = 0\n",
        "\n",
        "# Main loop...\n",
        "while True:\n",
        "\n",
        "    # user's choice here..\n",
        "    user_choice = input(\"\\nEnter your choice (rock, paper, scissors),  or type 'exit' () to end: \").lower()\n",
        "\n",
        "\n",
        "    # User's exit here...\n",
        "    if user_choice == 'exit':\n",
        "        print(\"Alright ! You left the game midway\")\n",
        "        break\n",
        "\n",
        "\n",
        "    # random Choice...\n",
        "    computer_choice = random.choice(choices)\n",
        "\n",
        "\n",
        "    print(f\"\\nYour choice: {user_choice.capitalize()}\")\n",
        "    print(f\"\\nComputer's choice: {computer_choice.capitalize()}\")\n",
        "\n",
        "\n",
        "\n",
        "    # Checking who is the the winner\n",
        "    if user_choice == computer_choice:\n",
        "        print(\"\\nIt's a tie!\")\n",
        "    elif (user_choice == \"rock\" and computer_choice == \"scissors\") or  \\\n",
        "            (user_choice == \"paper\" and  computer_choice == \"rock\") or \\\n",
        "            (user_choice == \"scissors\" and computer_choice == \"paper\"):\n",
        "\n",
        "\n",
        "        print(\"\\nYou win this round!\")\n",
        "        user_score += 1\n",
        "    else:\n",
        "        print(\"\\nComputer wins this round!\")\n",
        "        computer_score += 1\n",
        "\n",
        "\n",
        "    # current scores here...\n",
        "    print(f\"Your score: {user_score}\")\n",
        "    print(f\"Comp's score: {computer_score}\")\n",
        "\n",
        "\n",
        "    # Checking if any one has reached a score of 5...\n",
        "    if user_score == 5 or computer_score == 5:\n",
        "        print(\"Notice: Game Over!\")\n",
        "        if user_score > computer_score:\n",
        "            print(\"DAMNNN !! You win!\")\n",
        "        elif user_score < computer_score:\n",
        "            print(\"Haa loser ! Computer wins the game!\")\n",
        "        else:\n",
        "            print(\"Okay ! It's a tie!\")\n",
        "\n",
        "        # Exiting the second loop...\n",
        "        break\n"
      ],
      "metadata": {
        "id": "TUeQpmh2RY2M"
      },
      "execution_count": null,
      "outputs": []
    }
  ]
}