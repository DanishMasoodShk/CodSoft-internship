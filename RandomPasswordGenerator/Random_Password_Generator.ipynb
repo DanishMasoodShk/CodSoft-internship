{
  "nbformat": 4,
  "nbformat_minor": 0,
  "metadata": {
    "colab": {
      "provenance": []
    },
    "kernelspec": {
      "name": "python3",
      "display_name": "Python 3"
    },
    "language_info": {
      "name": "python"
    }
  },
  "cells": [
    {
      "cell_type": "markdown",
      "source": [
        "**A Password Generator: This project aims to create a\n",
        "password generator application using Python, allowing users to\n",
        "specify the length and complexity of the password.**"
      ],
      "metadata": {
        "id": "IelhsaD7ruim"
      }
    },
    {
      "cell_type": "code",
      "source": [
        "\n",
        "# This is simple project created for Command line O/P, A separate project will be create in VS code for the same topic but with more features and GUI\n",
        "\n",
        "\n",
        "import random\n",
        "import string\n",
        "\n",
        "# Lenghts suggestions....\n",
        "try:\n",
        "    length = int(input(\"Enter the desired length of the password: \"))\n",
        "    if length <= 0:\n",
        "\n",
        "# Null values or negative values can not be excepted...\n",
        "        raise ValueError(\"\\n Password length must be a positive integer.\")\n",
        "except ValueError as e:\n",
        "    print(f\"\\n Unfortunate Error: {e}\")\n",
        "    exit()\n",
        "\n",
        "# User's Input for characters...\n",
        "characters_user = input(\"\\n Please enter the special characters that you wish to be involved in the Password: \")\n",
        "\n",
        "# Password generation...\n",
        "characters = string.ascii_letters + string.digits + string.punctuation\n",
        "\n",
        "password = ''.join(random.choice(characters) for _ in range(length - len(characters_user)))\n",
        "\n",
        "password += characters_user\n",
        "# Randomizing the characters...\n",
        "password = ''.join(random.sample(password, len(password)))\n",
        "\n",
        "print(f\"Here's a generated Password using characters {characters_user}: {password}\")\n"
      ],
      "metadata": {
        "id": "cxnzYGHxswHv"
      },
      "execution_count": null,
      "outputs": []
    }
  ]
}