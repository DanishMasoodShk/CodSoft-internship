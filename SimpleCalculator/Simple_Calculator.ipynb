{
  "nbformat": 4,
  "nbformat_minor": 0,
  "metadata": {
    "colab": {
      "provenance": []
    },
    "kernelspec": {
      "name": "python3",
      "display_name": "Python 3"
    },
    "language_info": {
      "name": "python"
    }
  },
  "cells": [
    {
      "cell_type": "markdown",
      "source": [
        "**Design a simple calculator with basic arithmetic operations. Prompt the user to input two numbers and an operation choice.**\n",
        "\n",
        "**Perform the calculation and display the result**"
      ],
      "metadata": {
        "id": "FvAkxTEQEJOu"
      }
    },
    {
      "cell_type": "code",
      "source": [
        "#This is the command line o/p of a  simple calculator without the usage of functions.\n",
        "# A proper simple calculator with GUI will also be made with .py extension in VS code.\n",
        "\n",
        "\n",
        "print(\"|| ====   Welcome to Danish's Simple Calculator ==== ||\")\n",
        "\n",
        "total = 0  # Initializing a variable to keep track of the running total...\n",
        "\n",
        "while True:\n",
        "# Getting the user's input...while also performing try-catch error handling to act as a garbage collector...\n",
        "    try:\n",
        "        user_input = input(\"\\nEnter a number (or type 'exit' to end): \")\n",
        "\n",
        "\n",
        "\n",
        " # Check if the user wants to exit\n",
        "        if user_input.lower() == 'exit':\n",
        "            print(\"\\n||==== Calculations ended. Exiting the calculator ==== ||\")\n",
        "            break\n",
        "\n",
        "\n",
        "        num = float(user_input)\n",
        "    except ValueError:\n",
        "        print(\"Notice: \\n Invalid input. Please enter a valid number.\")\n",
        "        continue\n",
        "\n",
        "\n",
        "\n",
        "# Get the operation choice\n",
        "    operation = input(\"Choose an operation (+, -, *, /): \")\n",
        "\n",
        "\n",
        "\n",
        "# Perform the calculation based on the operation choice\n",
        "    if operation == '+':\n",
        "        total += num\n",
        "\n",
        "\n",
        "    elif operation == '-':\n",
        "        total -= num\n",
        "\n",
        "\n",
        "    elif operation == '*':\n",
        "        total *= num\n",
        "\n",
        "\n",
        "    elif operation == '/':\n",
        "        if num != 0:\n",
        "\n",
        "            total /= num\n",
        "\n",
        "\n",
        "        else:\n",
        "            print(\"Cannot divide by zero.\")\n",
        "            continue\n",
        "\n",
        "\n",
        "    else:\n",
        "        print(\"Invalid operation. Please choose +, -, *, / or type 'exit' to end.\")\n",
        "        continue\n",
        "\n",
        "\n",
        "\n",
        "# Display the updated total\n",
        "    print(f\"\\n Running Total: {total}\")\n"
      ],
      "metadata": {
        "colab": {
          "base_uri": "https://localhost:8080/"
        },
        "id": "1Hd84-cUESL_",
        "outputId": "833f5677-46b1-42dd-8ade-dd6d6d08e414"
      },
      "execution_count": 5,
      "outputs": [
        {
          "output_type": "stream",
          "name": "stdout",
          "text": [
            "|| ====   Welcome to Danish's Simple Calculator ==== ||\n",
            "\n",
            "Enter a number (or type 'exit' to end): exit\n",
            "\n",
            "||==== Calculations ended. Exiting the calculator ==== ||\n"
          ]
        }
      ]
    }
  ]
}